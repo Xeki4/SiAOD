{
  "cells": [
    {
      "cell_type": "markdown",
      "id": "db4b50f0",
      "metadata": {
        "id": "db4b50f0"
      },
      "source": [
        "# Лабораторная работа №5\n",
        "## Выполнил студент группы БСТ2201 Семеновых Павел Дмитриевич "
      ]
    },
    {
      "cell_type": "markdown",
      "id": "annual-symbol",
      "metadata": {
        "id": "annual-symbol"
      },
      "source": [
        "### Оглавление\n",
        "1. [Задание 1](#Задание-№1)\n",
        "2. [Задание 2](#Задание-№2)\n",
        "4. [Вывод](#Вывод)"
      ]
    },
    {
      "cell_type": "markdown",
      "id": "independent-spirit",
      "metadata": {
        "id": "independent-spirit"
      },
      "source": [
        "> Дополнительные модули, использованные при выполнение лабораторной"
      ]
    },
    {
      "cell_type": "code",
      "execution_count": 1,
      "id": "4839be2b",
      "metadata": {
        "id": "4839be2b"
      },
      "outputs": [],
      "source": [
        "# Необходим при замере скорости выполнения кода\n",
        "from datetime import datetime as t\n",
        "# Нужен для создания словаря в алг. Бойера-Мура\n",
        "from collections import defaultdict"
      ]
    },
    {
      "cell_type": "markdown",
      "id": "inclusive-motorcycle",
      "metadata": {
        "id": "inclusive-motorcycle"
      },
      "source": [
        "### Задание №1\n",
        "Реализовать методы поиска подстроки в строке. Добавить возможность ввода строки и подстроки с клавиатуры. Предусмотреть возможность существования пробела. Реализовать возможность выбора опции чувствительности или нечувствительности к регистру. Оценить время работы каждого алгоритма поиска и сравнить его со временем работы стандартной функции поиска, используемой в выбранном языке программирования."
      ]
    },
    {
      "cell_type": "markdown",
      "id": "interracial-communication",
      "metadata": {
        "id": "interracial-communication"
      },
      "source": [
        "#### Алгоритм Кнута-Морриса-Пратта"
      ]
    },
    {
      "cell_type": "code",
      "execution_count": 2,
      "id": "presidential-level",
      "metadata": {
        "colab": {
          "base_uri": "https://localhost:8080/"
        },
        "id": "presidential-level",
        "outputId": "eb34f855-07f3-4ae1-9a2e-21d06e541b4a"
      },
      "outputs": [
        {
          "name": "stdout",
          "output_type": "stream",
          "text": [
            "[0]\n",
            "Подстрока не найдена\n"
          ]
        }
      ],
      "source": [
        "def KMP(string, substring, mode):\n",
        "    if not mode:\n",
        "        string = string.lower()\n",
        "        substring = substring.lower()\n",
        "\n",
        "    p = [0]*len(substring)\n",
        "    j = 0\n",
        "    i = 1\n",
        "    # заполняем массив суффиксов\n",
        "    while i < len(substring):\n",
        "        if substring[j] == substring[i]:\n",
        "            p[i] = j+1\n",
        "            i += 1\n",
        "            j += 1\n",
        "        else:\n",
        "            if j == 0:\n",
        "                p[i] = 0;\n",
        "                i += 1\n",
        "            else:\n",
        "                j = p[j-1]\n",
        "\n",
        "    print(p)\n",
        "\n",
        "    m = len(substring) # длина подстроки\n",
        "    n = len(string) # длина строки\n",
        "    # ищем подстроку\n",
        "    i = 0\n",
        "    j = 0\n",
        "    while i < n:\n",
        "        if string[i] == substring[j]:\n",
        "            i += 1\n",
        "            j += 1\n",
        "            if j == m:\n",
        "                print(\"Подстрока найдена\")\n",
        "                print(f\"Индекс начала подстроки в строке = {i - m}\\nИндекс конца подстроки в строке = {i-1}\")\n",
        "                print(f\"Найденая подстрока: {string[i-m:i]}\" + (\", c учетом регистра\" if mode else \", без учета регистра\"))\n",
        "                break\n",
        "        else:\n",
        "            if j > 0:\n",
        "                j = p[j-1]\n",
        "            else:\n",
        "                i += 1\n",
        "\n",
        "    if i == n and j != m:\n",
        "        print(\"Подстрока не найдена\")\n",
        "\n",
        "s = input(\"Введите строку: \")\n",
        "subs = input(\"Введите подстроку: \")\n",
        "mode = False\n",
        "a = \"лилилось ЛиЛилась\"\n",
        "t = \"Лилилас\"\n",
        "KMP(s, subs, mode)"
      ]
    },
    {
      "cell_type": "markdown",
      "id": "downtown-option",
      "metadata": {
        "id": "downtown-option"
      },
      "source": [
        "#### Упрощенный алгоритм Бойера-Мура"
      ]
    },
    {
      "cell_type": "code",
      "execution_count": 3,
      "id": "respective-reggae",
      "metadata": {
        "colab": {
          "base_uri": "https://localhost:8080/"
        },
        "id": "respective-reggae",
        "outputId": "8345ce0c-93df-41b6-d4b8-6504ac01814e"
      },
      "outputs": [
        {
          "name": "stdout",
          "output_type": "stream",
          "text": [
            "{'5': 1, '6': 3, '*': 3}\n",
            "Подстрока не найдена\n"
          ]
        }
      ],
      "source": [
        "def BoyerMoore(string, substring, mode):\n",
        "    if not mode:\n",
        "        string = string.lower()\n",
        "        substring = substring.lower()\n",
        "\n",
        "    # Этап 1: формирование таблицы смещений\n",
        "\n",
        "    S = set()  # уникальные символы в образе\n",
        "    M = len(substring) # число символов в образе\n",
        "    d = {}     # словарь смещений\n",
        "\n",
        "    for i in range(M-2, -1, -1): # итерации с предпоследнего символа\n",
        "        if substring[i] not in S:        # если символ еще не добавлен в таблицу\n",
        "            d[substring[i]] = M-i-1\n",
        "            S.add(substring[i])\n",
        "\n",
        "    if substring[M-1] not in S:     # отдельно формируем последний символ\n",
        "        d[substring[M-1]] = M\n",
        "\n",
        "    d['*'] = M              # смещения для прочих символов\n",
        "\n",
        "    print(d)\n",
        "\n",
        "    # Этап 2: поиск образа в строке\n",
        "    N = len(string)\n",
        "\n",
        "    if N >= M:\n",
        "        i = M-1       # счетчик проверяемого символа в строке\n",
        "\n",
        "        while(i < N):\n",
        "            k = 0\n",
        "            j = 0\n",
        "            flag = False\n",
        "            for j in range(M-1, -1, -1):\n",
        "                if string[i-k] != substring[j]:\n",
        "                    if j == M-1:\n",
        "                        shift = d[string[i]] if d.get(string[i], False) else d['*']  # смещение, если не равен последний символ образа\n",
        "                    else:\n",
        "                        shift = d[substring[j]]   # смещение, если не равен не последний символ образа\n",
        "\n",
        "                    i += shift    # смещение счетчика строки\n",
        "                    flag = True  # если несовпадение символа, то flBreak = True\n",
        "                    break\n",
        "\n",
        "                k += 1          # смещение для сравниваемого символа в строке\n",
        "\n",
        "            if not flag:          # если дошли до начала образа, значит, все его символы совпали\n",
        "                print(\"Подстрока найдена\")\n",
        "                print(f\"Индекс начала подстроки в строке = {i - k + 1}\\nИндекс конца подстроки в строке = {i}\")\n",
        "                print(f\"Найденая подстрока: {string[i-k+1:i+1]}\" + (\", c учетом регистра\" if mode else \", без учета регистра\"))\n",
        "                break\n",
        "        else:\n",
        "            print(\"Подстрока не найдена\")\n",
        "    else:\n",
        "        print(\"Подстрока не найдена\")\n",
        "\n",
        "s = input(\"Введите строку: \")\n",
        "subs = input(\"Введите подстроку: \")\n",
        "mode = False\n",
        "t = \"о Данные\"\n",
        "a = \"метео дАнНые\"\n",
        "BoyerMoore(s, subs, mode)"
      ]
    },
    {
      "cell_type": "markdown",
      "id": "hybrid-memorial",
      "metadata": {
        "id": "hybrid-memorial"
      },
      "source": [
        "### Задание №2\n",
        "Написать программу, определяющую, является ли данное\n",
        "расположение «решаемым», то есть можно ли из него за конечное число\n",
        "шагов перейти к правильному. Если это возможно, то необходимо найти хотя\n",
        "бы одно решение - последовательность движений, после которой числа будут\n",
        "расположены в правильном порядке.\n",
        "#### Входные данные: массив чисел, представляющий собой расстановку в\n",
        "Порядке «слева направо, сверху вниз». Число 0 обозначает пустое поле.\n",
        "Например, массив [1, 2, 3, 4, 5, 6, 7, 8, 9, 10, 11, 12, 13, 14, 15, 0] представляет\n",
        "собой «решенную» позицию элементов.\n",
        "#### Выходные данные: если решения нет, то функция должна вернуть\n",
        "Пустой массив []. Если решение есть, то необходимо представить решение —\n",
        "для каждого шага записывается номер передвигаемого на данном шаге\n",
        "элемента."
      ]
    },
    {
      "cell_type": "code",
      "execution_count": 5,
      "id": "eleven-generic",
      "metadata": {
        "colab": {
          "base_uri": "https://localhost:8080/"
        },
        "id": "eleven-generic",
        "outputId": "e74c0cfa-f529-4560-ad84-3b41f7eddc0b"
      },
      "outputs": [
        {
          "name": "stdout",
          "output_type": "stream",
          "text": [
            "Начальная позиция\n",
            "[1, 2, 3, 4]\n",
            "[5, 6, 7, 8]\n",
            "[9, 10, 11, 12]\n",
            "[13, 14, 0, 15]\n",
            "Лучший вес: 2  Сдвигаем влево\n",
            "[1, 2, 3, 4]\n",
            "[5, 6, 7, 8]\n",
            "[9, 10, 11, 12]\n",
            "[13, 0, 14, 15]\n",
            "Лучший вес: 3  Сдвигаем влево\n",
            "[1, 2, 3, 4]\n",
            "[5, 6, 7, 8]\n",
            "[9, 10, 11, 12]\n",
            "[0, 13, 14, 15]\n",
            "Лучший вес: 4  Сдвигаем вверх\n",
            "[1, 2, 3, 4]\n",
            "[5, 6, 7, 8]\n",
            "[0, 10, 11, 12]\n",
            "[9, 13, 14, 15]\n",
            "Лучший вес: 3  Сдвигаем вниз\n",
            "[1, 2, 3, 4]\n",
            "[5, 6, 7, 8]\n",
            "[9, 10, 11, 12]\n",
            "[0, 13, 14, 15]\n",
            "Лучший вес: 2  Сдвигаем вправо\n",
            "[1, 2, 3, 4]\n",
            "[5, 6, 7, 8]\n",
            "[9, 10, 11, 12]\n",
            "[13, 0, 14, 15]\n",
            "Лучший вес: 1  Сдвигаем вправо\n",
            "[1, 2, 3, 4]\n",
            "[5, 6, 7, 8]\n",
            "[9, 10, 11, 12]\n",
            "[13, 14, 0, 15]\n",
            "Лучший вес: 0  Сдвигаем вправо\n",
            "[1, 2, 3, 4]\n",
            "[5, 6, 7, 8]\n",
            "[9, 10, 11, 12]\n",
            "[13, 14, 15, 0]\n",
            "Шагов:  8\n"
          ]
        }
      ],
      "source": [
        "import copy\n",
        "\n",
        "def perestanovka(board):\n",
        "    global l, r, u, d\n",
        "    l = copy.deepcopy(board)\n",
        "    r = copy.deepcopy(board)\n",
        "    u = copy.deepcopy(board)\n",
        "    d = copy.deepcopy(board)\n",
        "\n",
        "    for i in range(len(board)):\n",
        "        for j in range(len(board)):\n",
        "            if board[i][j] == 0:\n",
        "                k1 = i\n",
        "                k2 = j\n",
        "    try:\n",
        "        if k2 != 0:\n",
        "            l[k1][k2 - 1], l[k1][k2] = l[k1][k2], l[k1][k2 - 1]\n",
        "        else:\n",
        "            l = 0\n",
        "    except IndexError:\n",
        "        l = 0\n",
        "\n",
        "    try:\n",
        "        r[k1][k2 + 1], r[k1][k2] = r[k1][k2], r[k1][k2 + 1]\n",
        "    except IndexError:\n",
        "        r = 0\n",
        "\n",
        "    try:\n",
        "        if k1 != 0:\n",
        "            u[k1 - 1][k2], u[k1][k2] = u[k1][k2], u[k1 - 1][k2]\n",
        "        else:\n",
        "            u = 0\n",
        "    except IndexError:\n",
        "        u = 0\n",
        "\n",
        "    try:\n",
        "        d[k1 + 1][k2], d[k1][k2] = d[k1][k2], d[k1 + 1][k2]\n",
        "    except IndexError:\n",
        "        d = 0\n",
        "\n",
        "\n",
        "def calculateManhattan(l, r, u, d,l_number = 0):\n",
        "\n",
        "    f = 999\n",
        "    global board,k,m\n",
        "    if l != 0 and k != 1:\n",
        "        distance = 0\n",
        "        for i in range(4):\n",
        "            for j in range(4):\n",
        "                if l[i][j] != 0:\n",
        "                    x, y = divmod(l[i][j] - 1, 4)\n",
        "                    distance += abs(x - i) + abs(y - j)\n",
        "        if distance < f:\n",
        "            f = distance\n",
        "            k = 0\n",
        "            m = -1\n",
        "            f_name = 'влево'\n",
        "            board = list(l)\n",
        "\n",
        "    if r != 0 and k != 0:\n",
        "        distance = 0\n",
        "        for i in range(4):\n",
        "            for j in range(4):\n",
        "                if r[i][j] != 0:\n",
        "                    x, y = divmod(r[i][j] - 1, 4)\n",
        "                    distance += abs(x - i) + abs(y - j)\n",
        "        if distance < f:\n",
        "            f = distance\n",
        "            k = 1\n",
        "            m = -1\n",
        "            f_name = 'вправо'\n",
        "            board = list(r)\n",
        "\n",
        "    if u != 0 and m != 3:\n",
        "        distance = 0\n",
        "        for i in range(4):\n",
        "            for j in range(4):\n",
        "                if u[i][j] != 0:\n",
        "                    x, y = divmod(u[i][j] - 1, 4)\n",
        "                    distance += abs(x - i) + abs(y - j)\n",
        "        if distance < f:\n",
        "            f = distance\n",
        "            m = 2\n",
        "            k = -1\n",
        "            f_name = 'вверх'\n",
        "            board = list(u)\n",
        "\n",
        "    if d != 0 and m != 2:\n",
        "        distance = 0\n",
        "        for i in range(4):\n",
        "            for j in range(4):\n",
        "                if d[i][j] != 0:\n",
        "                    x, y = divmod(d[i][j] - 1, 4)\n",
        "                    distance += abs(x - i) + abs(y - j)\n",
        "        if distance < f:\n",
        "            f = distance\n",
        "            m = 3\n",
        "            k = -1\n",
        "            f_name = 'вниз'\n",
        "            board = list(d)\n",
        "\n",
        "    print(\"Лучший вес:\", f, \" Сдвигаем\", f_name)\n",
        "\n",
        "\n",
        "# board = [[1, 2, 3, 4],[5, 0, 7, 8],[13, 6, 11, 12],[10, 9, 14, 15]]\n",
        "board = [[1, 2, 3, 4],[5, 6, 7, 8],[9, 10, 11, 12],[13, 14, 0, 15]]\n",
        "\n",
        "count = 0\n",
        "m = -1\n",
        "k = -1\n",
        "go = 0\n",
        "print(\"Начальная позиция\")\n",
        "while go == 0:\n",
        "    perestanovka(board)\n",
        "    for i in range(4):\n",
        "        print(board[i])\n",
        "    calculateManhattan(l,r,u,d)\n",
        "    count += 1\n",
        "    if board == [[1, 2, 3, 4],[5, 6, 7, 8],[9, 10, 11, 12],[13, 14, 15, 0]]:\n",
        "        go += 1\n",
        "        for i in range(4):\n",
        "            print(board[i])\n",
        "        count += 1\n",
        "\n",
        "print(\"Шагов: \", count)"
      ]
    },
    {
      "cell_type": "markdown",
      "id": "arbitrary-amazon",
      "metadata": {
        "id": "arbitrary-amazon"
      },
      "source": [
        "### Вывод"
      ]
    },
    {
      "cell_type": "markdown",
      "id": "71bc58bf",
      "metadata": {
        "id": "71bc58bf"
      },
      "source": []
    }
  ],
  "metadata": {
    "colab": {
      "provenance": []
    },
    "kernelspec": {
      "display_name": "Python 3 (ipykernel)",
      "language": "python",
      "name": "python3"
    },
    "language_info": {
      "codemirror_mode": {
        "name": "ipython",
        "version": 3
      },
      "file_extension": ".py",
      "mimetype": "text/x-python",
      "name": "python",
      "nbconvert_exporter": "python",
      "pygments_lexer": "ipython3",
      "version": "3.12.0"
    }
  },
  "nbformat": 4,
  "nbformat_minor": 5
}
