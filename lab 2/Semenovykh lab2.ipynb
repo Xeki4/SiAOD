{
 "cells": [
  {
   "cell_type": "markdown",
   "id": "fifteen-sailing",
   "metadata": {},
   "source": [
    "# Лабораторная работа №2\n",
    "## Выполнил студент группы БСТ2201 Семеновых П.Д."
   ]
  },
  {
   "cell_type": "markdown",
   "id": "arctic-stocks",
   "metadata": {},
   "source": [
    "Реализовать следующие структуры данных:\n",
    "  \n",
    "● <b> Стек (stack): </b>  \n",
    "Операции для стека: \n",
    "<i> инициализация, проверка на пустоту, добавление нового элемента в начало, извлечение элемента из начала;  </i>  \n",
    "  \n",
    "● <b> Дек (двусторонняя очередь, deque):  </b>  \n",
    "Операции для дека: \n",
    "<i> инициализация, проверка на пустоту, добавление нового элемента в начало, добавление нового элемента в конец, извлечение элемента из начала, извлечение элемента из конца. </i>  \n",
    "  \n",
    "<i> Разработать программу обработки данных, содержащихся в заранее подготовленном txt-файле, в соответствии с заданиями, применив указанную в задании структуру данных. Результат работы программы вывести на экран и сохранить в отдельном txt-файле. </i>"
   ]
  },
  {
   "cell_type": "code",
   "execution_count": 1,
   "id": "859feb0e",
   "metadata": {},
   "outputs": [],
   "source": [
    "class Stack:\n",
    "    def __init__(self):\n",
    "        self.items=[]\n",
    "\n",
    "    def isEmpty(self):\n",
    "        return self.items==[]\n",
    "    \n",
    "    def add(self, item):\n",
    "        self.items.append(item)\n",
    "\n",
    "    def pop(self):\n",
    "        return self.items.pop()\n",
    "    \n",
    "    def peek(self):\n",
    "        return self.items[-1]\n",
    "    "
   ]
  },
  {
   "cell_type": "code",
   "execution_count": 2,
   "id": "fa6cf393",
   "metadata": {},
   "outputs": [],
   "source": [
    "class Deque:\n",
    "    def __init__(self):\n",
    "        self.items=[]\n",
    "\n",
    "    def isEmpty(self):\n",
    "        return self.items==[]\n",
    "    \n",
    "    def add_front(self, item):\n",
    "        self.items.insert(0,item)\n",
    "\n",
    "    def add_rear(self, item):\n",
    "        self.items.append(item)\n",
    "\n",
    "    def pop_front(self):\n",
    "        return self.items.pop(0)\n",
    "    \n",
    "    def pop_rear(self):\n",
    "        return self.items.pop()\n",
    "\n",
    "    def peek(self):\n",
    "        return self.items[-1]\n",
    "    "
   ]
  },
  {
   "cell_type": "markdown",
   "id": "5d7edb08",
   "metadata": {
    "scrolled": true
   },
   "source": [
    "### Задание №1\n",
    "Отсортировать строки файла, содержащие названия книг, в алфавитном порядке с использованием двух деков."
   ]
  },
  {
   "cell_type": "code",
   "execution_count": 3,
   "id": "17702ade",
   "metadata": {},
   "outputs": [],
   "source": [
    "deque1=Deque()\n",
    "deque2=Deque()\n",
    "file_to_save = open(\"save1.txt\", \"w\", encoding=\"utf-8\")\n",
    "\n",
    "with open(\"text1.txt\",\"r\", encoding=\"utf-8\") as f:\n",
    "\n",
    "    for line in f.readlines():\n",
    "        deque1.add_front(line.strip())\n",
    "\n",
    "    while not deque1.isEmpty():\n",
    "        line=deque1.pop_rear()\n",
    "        while not deque2.isEmpty() and deque2.peek()>line:\n",
    "            deque1.add_rear(deque2.pop_rear())\n",
    "        deque2.add_rear(line)\n",
    "    \n",
    "    while not deque2.isEmpty():\n",
    "        file_to_save.writelines(deque2.pop_front()+\"\\n\")\n",
    "        \n",
    "file_to_save.close()"
   ]
  },
  {
   "cell_type": "markdown",
   "id": "49fbd2a0",
   "metadata": {},
   "source": [
    "### Задание №2\n",
    "Дек содержит последовательность символов для шифровки сообщений. Дан текстовый файл, содержащий зашифрованное сообщение. Пользуясь деком, расшифровать текст. \n",
    "Известно, что при шифровке каждый символ сообщения заменялся следующим за ним в деке по часовой стрелке через один."
   ]
  },
  {
   "cell_type": "code",
   "execution_count": 34,
   "id": "81cab7a8",
   "metadata": {},
   "outputs": [],
   "source": [
    "deque=Deque()\n",
    "for c in \"абвгдеёжзийклмнопрстуфхцчшщъыьэюя\":\n",
    "    deque.add_rear(c)\n",
    "file_to_save = open(\"save2.txt\", \"w\", encoding=\"utf-8\")\n",
    "with open(\"text2.txt\",\"r\", encoding=\"utf-8\") as f:\n",
    "    for line in f.readlines():\n",
    "        for c in line:\n",
    "            while c!=deque.peek():\n",
    "                deque.add_front(deque.pop_rear())\n",
    "            deque.add_front(deque.pop_rear())\n",
    "            deque.add_front(deque.pop_rear())\n",
    "            file_to_save.write(deque.peek())\n",
    "file_to_save.close()"
   ]
  },
  {
   "cell_type": "markdown",
   "id": "c0894f47",
   "metadata": {},
   "source": [
    "### Задание №3\n",
    "Даны три стержня и n дисков различного размера. Диски можно надевать на стержни, образуя из них башни. Перенести n дисков со стержня А на стержень С, сохранив их первоначальный порядок. При переносе дисков необходимо соблюдать следующие правила:\n",
    "- на каждом шаге со стержня на стержень переносить только один диск;\n",
    "- диск нельзя помещать на диск меньшего размера;\n",
    "- для промежуточного хранения можно использовать стержень В.\n",
    "Реализовать алгоритм, используя три стека вместо стержней А, В, С. Информация о дисках хранится в исходном файле."
   ]
  },
  {
   "cell_type": "code",
   "execution_count": 4,
   "id": "9e91a9d4",
   "metadata": {},
   "outputs": [
    {
     "name": "stdout",
     "output_type": "stream",
     "text": [
      "1\n",
      "2\n",
      "3\n",
      "4\n",
      "5\n",
      "6\n",
      "7\n",
      "8\n",
      "9\n",
      "10\n"
     ]
    }
   ],
   "source": [
    "stack1, stack2, stack3 = Stack(), Stack(), Stack()\n",
    "\n",
    "def perenos(n, source, other, destination):\n",
    "    if n > 0:\n",
    "        perenos(n-1, source, destination, other)\n",
    "\n",
    "        destination.add(source.pop())\n",
    "    \n",
    "        perenos(n-1, other, source, destination)\n",
    "\n",
    "n=10\n",
    "for i in range(n,0,-1):\n",
    "    stack1.add(i)\n",
    "perenos(n,stack1, stack2, stack3 )\n",
    "while not stack3.isEmpty():\n",
    "    print(stack3.pop())    \n"
   ]
  },
  {
   "cell_type": "markdown",
   "id": "e5b0be17",
   "metadata": {},
   "source": [
    "### Задание №4\n",
    "Дан текстовый файл с программой на алгоритмическом языке. За один просмотр файла проверить баланс круглых скобок в тексте, используя стек."
   ]
  },
  {
   "cell_type": "code",
   "execution_count": 5,
   "id": "5b1df60a",
   "metadata": {},
   "outputs": [
    {
     "name": "stdout",
     "output_type": "stream",
     "text": [
      "False\n"
     ]
    }
   ],
   "source": [
    "stack=Stack()\n",
    "k=True\n",
    "with open(\"text4.txt\",\"r\", encoding=\"utf-8\") as f:\n",
    "    for line in f.readlines():\n",
    "        for letter in line.strip():\n",
    "            if letter==\"(\":\n",
    "                stack.add(\"(\")\n",
    "            elif letter==\")\":\n",
    "                if stack.isEmpty():\n",
    "                    k=False\n",
    "                    break\n",
    "                stack.pop()\n",
    "\n",
    "print(k and stack.isEmpty())"
   ]
  },
  {
   "cell_type": "markdown",
   "id": "c44cdd6b",
   "metadata": {},
   "source": [
    "### Задание №5\n",
    "Дан текстовый файл с программой на алгоритмическом языке. За один просмотр файла проверить баланс квадратных скобок в тексте, используя дек."
   ]
  },
  {
   "cell_type": "code",
   "execution_count": 6,
   "id": "36b8f400",
   "metadata": {},
   "outputs": [
    {
     "name": "stdout",
     "output_type": "stream",
     "text": [
      "True\n"
     ]
    }
   ],
   "source": [
    "deque=Deque()\n",
    "k=True\n",
    "with open(\"text5.txt\",\"r\", encoding=\"utf-8\") as f:\n",
    "    for line in f.readlines():\n",
    "        for letter in line.strip():\n",
    "            if letter==\"[\":\n",
    "                deque.add_rear(\"[\")\n",
    "            elif letter==\"]\":\n",
    "                if deque.isEmpty():\n",
    "                    k=False\n",
    "                    break\n",
    "                deque.pop_rear()\n",
    "\n",
    "print(k and deque.isEmpty())"
   ]
  },
  {
   "cell_type": "markdown",
   "id": "59d13dc7",
   "metadata": {},
   "source": [
    "### Задание №6\n",
    "Дан файл из символов. Используя стек, за один просмотр файла напечатать сначала все цифры, затем все буквы, и, наконец, все остальные символы, сохраняя исходный порядок в каждой группе символов."
   ]
  },
  {
   "cell_type": "code",
   "execution_count": 10,
   "id": "297e36c2",
   "metadata": {},
   "outputs": [
    {
     "name": "stdout",
     "output_type": "stream",
     "text": [
      "234657314129292414ascvdsvafufjjjjOLRLFJEFHETTFE- -   -  -----\\|+ |+@$ #@+% +#+|  *&^ ^#*@ # !@$\n"
     ]
    }
   ],
   "source": [
    "stack_digit=Stack()\n",
    "stack_letter=Stack()\n",
    "stack_other=Stack()\n",
    "with open(\"text6.txt\",\"r\", encoding=\"utf-8\") as f:\n",
    "    for line in f.readlines():\n",
    "        for c in line:\n",
    "            if c.isdigit():\n",
    "                stack_digit.add(c)\n",
    "            elif c.isalpha():\n",
    "                stack_letter.add(c)\n",
    "            else:\n",
    "                stack_other.add(c)\n",
    "to_print=\"\"\n",
    "while not stack_other.isEmpty():\n",
    "    to_print+=stack_other.pop()\n",
    "while not stack_letter.isEmpty():\n",
    "    to_print+=stack_letter.pop()\n",
    "while not stack_digit.isEmpty():\n",
    "    to_print+=stack_digit.pop()\n",
    "to_print = to_print[::-1]\n",
    "print(to_print)"
   ]
  },
  {
   "cell_type": "markdown",
   "id": "973f68bd",
   "metadata": {},
   "source": [
    "### Задание №7\n",
    "Дан файл из целых чисел. Используя дек, за один просмотр файла напечатать сначала все отрицательные числа, затем все положительные числа, сохраняя исходный порядок в каждой группе."
   ]
  },
  {
   "cell_type": "code",
   "execution_count": 13,
   "id": "c56fad66",
   "metadata": {},
   "outputs": [
    {
     "name": "stdout",
     "output_type": "stream",
     "text": [
      "-21 -3 -4 -2 -6 -234 -1 -34 -65 -5 12 321 4 5 5 4 756 75 687 568 12 34 564 43 0 0 78 7 44 22 \n"
     ]
    }
   ],
   "source": [
    "deque_pos=Deque()\n",
    "deque_neg=Deque()\n",
    "with open(\"text7.txt\",\"r\", encoding=\"utf-8\") as f:\n",
    "    for line in f.readlines():\n",
    "        # nums=map(int,line.split())\n",
    "        for i in line.split():\n",
    "            if int(i)>=0:\n",
    "                deque_pos.add_rear(i)\n",
    "            else:\n",
    "                deque_neg.add_rear(i)\n",
    "to_print=\"\"\n",
    "while not deque_neg.isEmpty():\n",
    "    to_print+=deque_neg.pop_front()+\" \"\n",
    "while not deque_pos.isEmpty():\n",
    "    to_print+=deque_pos.pop_front()+\" \"\n",
    "print(to_print)"
   ]
  },
  {
   "cell_type": "markdown",
   "id": "b9228191",
   "metadata": {},
   "source": [
    "### Задание №8\n",
    "Дан текстовый файл. Используя стек, сформировать новый текстовый файл, содержащий строки исходного файла, записанные в обратном порядке: первая строка становится последней, вторая – предпоследней и т.д."
   ]
  },
  {
   "cell_type": "code",
   "execution_count": 17,
   "id": "981fbdfe",
   "metadata": {},
   "outputs": [],
   "source": [
    "stack=Stack()\n",
    "with open(\"text8.txt\",\"r\", encoding=\"utf-8\") as f:\n",
    "    for line in f.readlines():\n",
    "        stack.add(line.strip())\n",
    "with open(\"save8.txt\",\"w\",encoding=\"utf-8\") as f:\n",
    "    while not stack.isEmpty():\n",
    "        f.writelines(stack.pop()+\"\\n\")"
   ]
  },
  {
   "cell_type": "markdown",
   "id": "rental-jerusalem",
   "metadata": {},
   "source": [
    "### Вывод\n"
   ]
  },
  {
   "cell_type": "markdown",
   "id": "0c2b8899",
   "metadata": {},
   "source": [
    "Были реализованы такие структуры данных, как стек и дек. Был решен ряд проблем, связанных с использованием вышеперечисленных структур данных"
   ]
  }
 ],
 "metadata": {
  "kernelspec": {
   "display_name": "Python 3 (ipykernel)",
   "language": "python",
   "name": "python3"
  },
  "language_info": {
   "codemirror_mode": {
    "name": "ipython",
    "version": 3
   },
   "file_extension": ".py",
   "mimetype": "text/x-python",
   "name": "python",
   "nbconvert_exporter": "python",
   "pygments_lexer": "ipython3",
   "version": "3.12.1"
  }
 },
 "nbformat": 4,
 "nbformat_minor": 5
}
